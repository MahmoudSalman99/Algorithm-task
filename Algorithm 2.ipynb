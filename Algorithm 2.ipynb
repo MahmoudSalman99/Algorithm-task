{
  "nbformat": 4,
  "nbformat_minor": 0,
  "metadata": {
    "colab": {
      "provenance": []
    },
    "kernelspec": {
      "name": "python3",
      "display_name": "Python 3"
    },
    "language_info": {
      "name": "python"
    }
  },
  "cells": [
    {
      "cell_type": "code",
      "execution_count": 1,
      "metadata": {
        "colab": {
          "base_uri": "https://localhost:8080/"
        },
        "id": "u8LvwJTyRyRD",
        "outputId": "4d85d301-6504-4500-dd2d-9a5add4af3ef"
      },
      "outputs": [
        {
          "output_type": "stream",
          "name": "stdout",
          "text": [
            "Edge \tWeight\n",
            "0 - 1 \t2\n",
            "1 - 2 \t3\n",
            "0 - 3 \t6\n",
            "1 - 4 \t5\n"
          ]
        }
      ],
      "source": [
        "import sys\n",
        "\n",
        "def prim_mst(graph):\n",
        "    vertices_count = len(graph)\n",
        "\n",
        "\n",
        "    parent = [-1] * vertices_count\n",
        "\n",
        "    key = [sys.maxsize] * vertices_count\n",
        "\n",
        "    mst_set = [False] * vertices_count\n",
        "\n",
        "\n",
        "    key[0] = 0\n",
        "\n",
        "    for _ in range(vertices_count - 1):\n",
        "\n",
        "        u = min_key(key, mst_set)\n",
        "\n",
        "\n",
        "        mst_set[u] = True\n",
        "\n",
        "\n",
        "        for v in range(vertices_count):\n",
        "\n",
        "            if graph[u][v] != 0 and not mst_set[v] and graph[u][v] < key[v]:\n",
        "                parent[v] = u\n",
        "                key[v] = graph[u][v]\n",
        "\n",
        "\n",
        "    print_mst(parent, graph)\n",
        "\n",
        "\n",
        "def min_key(key, mst_set):\n",
        "    min_val = sys.maxsize\n",
        "    min_index = -1\n",
        "\n",
        "    for v in range(len(key)):\n",
        "        if not mst_set[v] and key[v] < min_val:\n",
        "            min_val = key[v]\n",
        "            min_index = v\n",
        "\n",
        "    return min_index\n",
        "\n",
        "\n",
        "def print_mst(parent, graph):\n",
        "    print(\"Edge \\tWeight\")\n",
        "    for i in range(1, len(graph)):\n",
        "        print(f\"{parent[i]} - {i} \\t{graph[i][parent[i]]}\")\n",
        "\n",
        "\n",
        "if __name__ == \"__main__\":\n",
        "\n",
        "    graph = [\n",
        "        [0, 2, 0, 6, 0],\n",
        "        [2, 0, 3, 8, 5],\n",
        "        [0, 3, 0, 0, 7],\n",
        "        [6, 8, 0, 0, 9],\n",
        "        [0, 5, 7, 9, 0]\n",
        "    ]\n",
        "\n",
        "    prim_mst(graph)\n"
      ]
    }
  ]
}