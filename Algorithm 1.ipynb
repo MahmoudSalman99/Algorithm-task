{
  "nbformat": 4,
  "nbformat_minor": 0,
  "metadata": {
    "colab": {
      "provenance": []
    },
    "kernelspec": {
      "name": "python3",
      "display_name": "Python 3"
    },
    "language_info": {
      "name": "python"
    }
  },
  "cells": [
    {
      "cell_type": "code",
      "execution_count": 1,
      "metadata": {
        "colab": {
          "base_uri": "https://localhost:8080/"
        },
        "id": "6jNkfqq8QXDz",
        "outputId": "c4fc59e9-947d-4094-d462-4374667d5c2a"
      },
      "outputs": [
        {
          "output_type": "stream",
          "name": "stdout",
          "text": [
            "Original Array:\n",
            "[4, 2, 2, 8, 3, 3, 1]\n",
            "\n",
            "Sorted Array:\n",
            "[1, 2, 2, 3, 3, 4, 8]\n"
          ]
        }
      ],
      "source": [
        "def counting_sort(array):\n",
        "\n",
        "    max_value = max(array)\n",
        "\n",
        "\n",
        "    count = [0] * (max_value + 1)\n",
        "\n",
        "    for num in array:\n",
        "        count[num] += 1\n",
        "\n",
        "\n",
        "    for i in range(1, len(count)):\n",
        "        count[i] += count[i - 1]\n",
        "\n",
        "    output = [0] * len(array)\n",
        "\n",
        "\n",
        "    for num in reversed(array):\n",
        "        output[count[num] - 1] = num\n",
        "        count[num] -= 1\n",
        "\n",
        "\n",
        "    for i in range(len(array)):\n",
        "        array[i] = output[i]\n",
        "\n",
        "if __name__ == \"__main__\":\n",
        "    array = [4, 2, 2, 8, 3, 3, 1]\n",
        "\n",
        "    print(\"Original Array:\")\n",
        "    print(array)\n",
        "\n",
        "    counting_sort(array)\n",
        "\n",
        "    print(\"\\nSorted Array:\")\n",
        "    print(array)\n"
      ]
    },
    {
      "cell_type": "code",
      "execution_count": null,
      "metadata": {
        "id": "RY5_-sZ9QjXg"
      },
      "outputs": [],
      "source": []
    }
  ]
}